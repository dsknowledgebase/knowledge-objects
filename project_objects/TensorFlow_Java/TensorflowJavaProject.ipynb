{
 "cells": [
  {
   "cell_type": "markdown",
   "metadata": {},
   "source": [
    "## Tensorflow Java Project\n",
    "\n",
    "The objective of the project is to classify chest X-rays into Covid and Normal cases using Tensorflow in Java."
   ]
  },
  {
   "cell_type": "markdown",
   "metadata": {},
   "source": [
    "Deep Java Learning (DJL) is used to classify X-ray images in Java with the help of TensorFlow. The build automation tool used in thie project is Maven."
   ]
  },
  {
   "cell_type": "code",
   "execution_count": 1,
   "metadata": {},
   "outputs": [],
   "source": [
    "%maven ai.djl:api:0.8.0\n",
    "%maven ai.djl.tensorflow:tensorflow-api:0.8.0\n",
    "%maven ai.djl.tensorflow:tensorflow-engine:0.8.0\n",
    "%maven ai.djl.tensorflow:tensorflow-model-zoo:0.8.0\n",
    "%maven org.bytedeco:javacpp:1.5.4\n",
    "%maven org.slf4j:slf4j-simple:1.7.26\n",
    "%maven ai.djl.tensorflow:tensorflow-native-auto:2.3.1"
   ]
  },
  {
   "cell_type": "code",
   "execution_count": 2,
   "metadata": {},
   "outputs": [],
   "source": [
    "%%loadFromPOM\n",
    "<dependency>\n",
    "    <groupId>com.google.protobuf</groupId>\n",
    "    <artifactId>protobuf-java</artifactId>\n",
    "    <version>3.8.0</version>\n",
    "</dependency>"
   ]
  },
  {
   "cell_type": "markdown",
   "metadata": {},
   "source": [
    "Imported all the required Deep Java Learning Packages"
   ]
  },
  {
   "cell_type": "code",
   "execution_count": 3,
   "metadata": {},
   "outputs": [],
   "source": [
    "import ai.djl.inference.*;\n",
    "import ai.djl.modality.*;\n",
    "import ai.djl.modality.cv.*;\n",
    "import ai.djl.modality.cv.util.*;\n",
    "import ai.djl.ndarray.*;\n",
    "import ai.djl.repository.zoo.*;\n",
    "import ai.djl.translate.*;\n",
    "import ai.djl.training.util.*;\n",
    "import ai.djl.util.*;\n",
    "import java.net.*;\n",
    "import java.nio.file.*;\n",
    "import java.util.*;"
   ]
  },
  {
   "cell_type": "markdown",
   "metadata": {},
   "source": [
    "Pre-trained model was used here, since it takes some time to train the model. The code referenced for training the model is inspired from https://www.kaggle.com/aakashnain/beating-everything-with-depthwise-convolution. So, used the https://github.com/ieee8023/covid-chestxray-dataset dataset for images and classified it as Covid and Normal."
   ]
  },
  {
   "cell_type": "code",
   "execution_count": 4,
   "metadata": {},
   "outputs": [],
   "source": [
    "var modelU = \"/model/saved_model.zip\""
   ]
  },
  {
   "cell_type": "code",
   "execution_count": 5,
   "metadata": {},
   "outputs": [],
   "source": [
    "class MyTranslator implements Translator<Image, Classifications> {\n",
    "\n",
    "    private static final List<String> CLASSES = Arrays.asList(\"Normal\", \"Covid\");\n",
    "\n",
    "    @Override\n",
    "    public NDList processInput(TranslatorContext ctx, Image input) {\n",
    "        NDManager manager = ctx.getNDManager();\n",
    "        NDArray array = input.toNDArray(manager, Image.Flag.COLOR);\n",
    "        array = NDImageUtils.resize(array, 224).div(255.0f);\n",
    "        return new NDList(array);\n",
    "    }\n",
    "\n",
    "    @Override\n",
    "    public Classifications processOutput(TranslatorContext ctx, NDList list) {\n",
    "        NDArray probabilities = list.singletonOrThrow();\n",
    "        return new Classifications(CLASSES, probabilities);\n",
    "    }\n",
    "\n",
    "    @Override\n",
    "    public Batchifier getBatchifier() {\n",
    "        return Batchifier.STACK;\n",
    "    }\n",
    "}"
   ]
  },
  {
   "cell_type": "code",
   "execution_count": 6,
   "metadata": {},
   "outputs": [],
   "source": [
    "var image = \"xray.jpg\";"
   ]
  },
  {
   "cell_type": "code",
   "execution_count": 7,
   "metadata": {},
   "outputs": [
    {
     "name": "stderr",
     "output_type": "stream",
     "text": [
      "Warning: Could not load Loader: java.lang.UnsatisfiedLinkError: no jnijavacpp in java.library.path: [/usr/java/packages/lib, /usr/lib/x86_64-linux-gnu/jni, /lib/x86_64-linux-gnu, /usr/lib/x86_64-linux-gnu, /usr/lib/jni, /lib, /usr/lib]\n",
      "Warning: Could not load Pointer: java.lang.UnsatisfiedLinkError: no jnijavacpp in java.library.path: [/usr/java/packages/lib, /usr/lib/x86_64-linux-gnu/jni, /lib/x86_64-linux-gnu, /usr/lib/x86_64-linux-gnu, /usr/lib/jni, /lib, /usr/lib]\n",
      "Warning: Could not load BytePointer: java.lang.UnsatisfiedLinkError: no jnijavacpp in java.library.path: [/usr/java/packages/lib, /usr/lib/x86_64-linux-gnu/jni, /lib/x86_64-linux-gnu, /usr/lib/x86_64-linux-gnu, /usr/lib/jni, /lib, /usr/lib]\n"
     ]
    },
    {
     "name": "stdout",
     "output_type": "stream",
     "text": [
      "Loading:     100% |████████████████████████████████████████|\n"
     ]
    },
    {
     "name": "stderr",
     "output_type": "stream",
     "text": [
      "Warning: Could not load PointerPointer: java.lang.UnsatisfiedLinkError: no jnijavacpp in java.library.path: [/usr/java/packages/lib, /usr/lib/x86_64-linux-gnu/jni, /lib/x86_64-linux-gnu, /usr/lib/x86_64-linux-gnu, /usr/lib/jni, /lib, /usr/lib]\n"
     ]
    }
   ],
   "source": [
    "Criteria<Image, Classifications> criteria =\n",
    "        Criteria.builder()\n",
    "                .setTypes(Image.class, Classifications.class)\n",
    "                .optModelUrls(modelU)\n",
    "                .optTranslator(new MyTranslator())\n",
    "                .optProgress(new ProgressBar())\n",
    "                .build();\n",
    " ZooModel model = ModelZoo.loadModel(criteria);"
   ]
  },
  {
   "cell_type": "code",
   "execution_count": 8,
   "metadata": {},
   "outputs": [
    {
     "name": "stderr",
     "output_type": "stream",
     "text": [
      "Warning: Could not load IntPointer: java.lang.UnsatisfiedLinkError: no jnijavacpp in java.library.path: [/usr/java/packages/lib, /usr/lib/x86_64-linux-gnu/jni, /lib/x86_64-linux-gnu, /usr/lib/x86_64-linux-gnu, /usr/lib/jni, /lib, /usr/lib]\n"
     ]
    },
    {
     "data": {
      "text/plain": [
       "[\n",
       "\tclass: \"Covid\", probability: 0.63486\n",
       "\tclass: \"Normal\", probability: 0.36513\n",
       "]"
      ]
     },
     "execution_count": 8,
     "metadata": {},
     "output_type": "execute_result"
    }
   ],
   "source": [
    "Predictor<Image, Classifications> predictor = model.newPredictor();\n",
    "Classifications classifications = predictor.predict(image);\n",
    "\n",
    "classifications"
   ]
  }
 ],
 "metadata": {
  "kernelspec": {
   "display_name": "Java",
   "language": "java",
   "name": "java"
  },
  "language_info": {
   "codemirror_mode": "java",
   "file_extension": ".jshell",
   "mimetype": "text/x-java-source",
   "name": "Java",
   "pygments_lexer": "java",
   "version": "11.0.9.1+1-Ubuntu-0ubuntu1.18.04"
  }
 },
 "nbformat": 4,
 "nbformat_minor": 4
}
